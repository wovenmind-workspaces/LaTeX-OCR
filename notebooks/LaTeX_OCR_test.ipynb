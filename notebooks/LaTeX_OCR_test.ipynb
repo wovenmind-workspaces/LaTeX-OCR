{
  "cells": [
    {
      "attachments": {},
      "cell_type": "markdown",
      "metadata": {
        "id": "aaAqi3wku23I"
      },
      "source": [
        "# LaTeX OCR\n",
        "In this colab you can convert an image of an equation into LaTeX code.\n",
        "## How?\n",
        "Execute the cell titled \"Setup\". The first time an error will show up. Simply execute the cell again. Everything should be fine now.\n",
        "\n",
        "Next, execute the cell below and upload the image(s).\n",
        "\n",
        "> Note: You can probably also run this project locally and with a GUI. Follow the steps on [GitHub](https://github.com/lukas-blecher/LaTeX-OCR)"
      ]
    },
    {
      "cell_type": "code",
      "execution_count": 1,
      "metadata": {
        "cellView": "form",
        "id": "DQM_PKeCuzWR"
      },
      "outputs": [
        {
          "name": "stderr",
          "output_type": "stream",
          "text": [
            "/opt/conda/lib/python3.10/site-packages/torchvision/io/image.py:13: UserWarning: Failed to load image Python extension: 'libc10_cuda.so: cannot open shared object file: No such file or directory'If you don't plan on using image functionality from `torchvision.io`, you can ignore this warning. Otherwise, there might be something wrong with your environment. Did you have `libjpeg` or `libpng` installed before building `torchvision` from source?\n",
            "  warn(\n",
            "/opt/conda/lib/python3.10/site-packages/tqdm/auto.py:21: TqdmWarning: IProgress not found. Please update jupyter and ipywidgets. See https://ipywidgets.readthedocs.io/en/stable/user_install.html\n",
            "  from .autonotebook import tqdm as notebook_tqdm\n"
          ]
        },
        {
          "data": {
            "text/html": [
              "<script src='https://cdnjs.cloudflare.com/ajax/libs/mathjax/2.7.3/latest.js?config=default'></script>"
            ],
            "text/plain": [
              "<IPython.core.display.HTML object>"
            ]
          },
          "metadata": {},
          "output_type": "display_data"
        }
      ],
      "source": [
        "#@title Setup\n",
        "%reload_ext autoreload\n",
        "%autoreload\n",
        "import PIL\n",
        "\n",
        "if int(PIL.__version__[0]) < 9:\n",
        "    print('Mandatory restart: Execute this cell again!')\n",
        "    import os\n",
        "    os.kill(os.getpid(), 9)\n",
        "\n",
        "\n",
        "\n",
        "from pix2tex import cli as pix2tex\n",
        "from PIL import Image\n",
        "model = pix2tex.LatexOCR()\n",
        "\n",
        "from IPython.display import HTML, Math\n",
        "display(HTML(\"<script src='https://cdnjs.cloudflare.com/ajax/libs/mathjax/2.7.3/\"\n",
        "             \"latest.js?config=default'></script>\"))\n",
        "table = r'\\begin{array} {l|l} %s  \\end{array}'"
      ]
    },
    {
      "cell_type": "code",
      "execution_count": null,
      "metadata": {
        "id": "CjrR3O07u3uH"
      },
      "outputs": [],
      "source": [
        "def upload_files():\n",
        "  from io import BytesIO\n",
        "  uploaded = files.upload()\n",
        "  return [(name, BytesIO(b)) for name, b in uploaded.items()]\n",
        "\n",
        "imgs = upload_files()\n",
        "predictions = []\n",
        "for name, f in imgs:\n",
        "    img = Image.open(f)\n",
        "    math = model(img)\n",
        "    print(math)\n",
        "    predictions.append('\\\\mathrm{%s} & \\\\displaystyle{%s}'%(name, math))\n",
        "Math(table%'\\\\\\\\'.join(predictions))"
      ]
    },
    {
      "cell_type": "code",
      "execution_count": 11,
      "metadata": {
        "id": "ZqCH-4XoCkMO"
      },
      "outputs": [
        {
          "name": "stdout",
          "output_type": "stream",
          "text": [
            "['./test3/Screenshot 2023-07-01 at 9.54.11 PM.png']\n",
            "\\varphi_{p}(\\xi)=\\left\\langle\\stackrel{p^{\\nu_{P}(\\xi)}}{0}\\right.\\quad\\stackrel{\\mathrm{for}}{\\mathrm{for}\\quad\\xi\\neq0.}\n"
          ]
        },
        {
          "data": {
            "text/latex": [
              "$\\displaystyle \\begin{array} {l|l} \\mathrm{./test3/Screenshot 2023-07-01 at 9.54.11 PM.png} & \\displaystyle{\\varphi_{p}(\\xi)=\\left\\langle\\stackrel{p^{\\nu_{P}(\\xi)}}{0}\\right.\\quad\\stackrel{\\mathrm{for}}{\\mathrm{for}\\quad\\xi\\neq0.}}  \\end{array}$"
            ],
            "text/plain": [
              "<IPython.core.display.Math object>"
            ]
          },
          "execution_count": 11,
          "metadata": {},
          "output_type": "execute_result"
        }
      ],
      "source": [
        "def upload_files(file_paths):\n",
        "  from io import BytesIO\n",
        "  return [(path, BytesIO(open(path, 'rb').read())) for path in file_paths]\n",
        "\n",
        "from PIL import Image\n",
        "\n",
        "from os import walk\n",
        "\n",
        "f = []\n",
        "for (dirpath, dirnames, filenames) in walk(\"./test3\"):\n",
        "    f.extend([f\"{dirpath}/{filename}\" for filename in filenames])\n",
        "    break\n",
        "\n",
        "print(f)\n",
        "\n",
        "# replace with the paths to your files\n",
        "file_paths = ['file.png']\n",
        "imgs = upload_files(f)\n",
        "predictions = []\n",
        "from IPython.display import Math\n",
        "for name, f in imgs:\n",
        "    img = Image.open(f)\n",
        "    math = model(img)\n",
        "    print(math)\n",
        "    prediction = '\\\\mathrm{%s} & \\\\displaystyle{%s}' % (name, math)\n",
        "    predictions.append(prediction)\n",
        "    Math(table % '\\\\\\\\'.join([prediction]))\n",
        "\n",
        "\n",
        "# ensure 'table' is defined somewhere in your code\n",
        "Math(table % '\\\\\\\\'.join(predictions))\n"
      ]
    },
    {
      "cell_type": "code",
      "execution_count": null,
      "metadata": {},
      "outputs": [],
      "source": [
        "from os import walk\n",
        "\n",
        "f = []\n",
        "for (dirpath, dirnames, filenames) in walk(\"./files\"):\n",
        "    f.extend(filenames)\n",
        "    break\n"
      ]
    },
    {
      "cell_type": "code",
      "execution_count": null,
      "metadata": {},
      "outputs": [],
      "source": [
        "import random\n",
        "\n",
        "def permute_equation(equation, n=10):\n",
        "    \"\"\"\n",
        "    Generate n permutations of a given LaTeX equation.\n",
        "\n",
        "    This function splits the equation into sub-expressions at \"+\" and \"*\" symbols,\n",
        "    and then generates permutations by shuffling these sub-expressions.\n",
        "\n",
        "    Note that not all permutations might be mathematically valid.\n",
        "\n",
        "    Args:\n",
        "        equation (str): The LaTeX equation to permute.\n",
        "        n (int): The number of permutations to generate.\n",
        "\n",
        "    Returns:\n",
        "        list of str: The generated permutations of the equation.\n",
        "    \"\"\"\n",
        "\n",
        "    # Split the equation into sub-expressions at \"+\" and \"*\" symbols\n",
        "    sub_exprs = equation.split(\"+\")\n",
        "    sub_exprs = [sub_expr.split(\"*\") for sub_expr in sub_exprs]\n",
        "\n",
        "    # Flatten the list of sub-expressions\n",
        "    sub_exprs = [item for sublist in sub_exprs for item in sublist]\n",
        "\n",
        "    # Generate permutations by shuffling the sub-expressions\n",
        "    permutations = []\n",
        "    for _ in range(n):\n",
        "        random.shuffle(sub_exprs)\n",
        "        permutation = \"+\".join(\"*\".join(sub_exprs[i:i+2]) for i in range(0, len(sub_exprs), 2))\n",
        "        permutations.append(permutation)\n",
        "\n",
        "    return permutations\n"
      ]
    },
    {
      "cell_type": "code",
      "execution_count": null,
      "metadata": {},
      "outputs": [],
      "source": [
        "permute_equation(\"\\( \\int_{-\\epsilon}^{\\infty} dl \\, e^{-l\\zeta} \\int_{-\\epsilon}^{\\infty} dl' \\, e^{-l'\\zeta} ll' \\frac{l'-l}{l+l'} \\left[3 \\delta''(l) - \\frac{3}{4} t \\delta(l)\\right] = 0 \\)\")"
      ]
    }
  ],
  "metadata": {
    "colab": {
      "collapsed_sections": [],
      "name": "LaTeX OCR test.ipynb",
      "provenance": []
    },
    "kernelspec": {
      "display_name": "Python 3",
      "name": "python3"
    },
    "language_info": {
      "codemirror_mode": {
        "name": "ipython",
        "version": 3
      },
      "file_extension": ".py",
      "mimetype": "text/x-python",
      "name": "python",
      "nbconvert_exporter": "python",
      "pygments_lexer": "ipython3",
      "version": "3.10.12"
    }
  },
  "nbformat": 4,
  "nbformat_minor": 0
}
